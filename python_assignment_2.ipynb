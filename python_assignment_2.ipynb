{
 "cells": [
  {
   "cell_type": "markdown",
   "id": "c7137284",
   "metadata": {},
   "source": [
    "# Python assignment 2"
   ]
  },
  {
   "cell_type": "markdown",
   "id": "611ae6f2",
   "metadata": {},
   "source": [
    "Question 1: What are the two values of the Boolean data type? How do you write them?\n",
    "    \n",
    "Answer: Two values of boolean data type are True and False and we write them like True and False\n",
    "    \n",
    "    \n",
    "    \n",
    "    "
   ]
  },
  {
   "cell_type": "markdown",
   "id": "2a3506c7",
   "metadata": {},
   "source": [
    "                                                                                                     "
   ]
  },
  {
   "cell_type": "markdown",
   "id": "45de90d9",
   "metadata": {},
   "source": [
    "Question 2: What are the three different types of Boolean operators?\n",
    "\n",
    "Answer: There are three logical operators that are used to compare values. They evaluate expression down to Boolean values,\n",
    "        returning either True or False. These operators are and , or , not.\n",
    "        \n",
    "        "
   ]
  },
  {
   "cell_type": "markdown",
   "id": "42e09f58",
   "metadata": {},
   "source": [
    "                                                                                                                      "
   ]
  },
  {
   "cell_type": "markdown",
   "id": "66d22178",
   "metadata": {},
   "source": [
    "Question 3: Make a list of each Boolean operator's truth tables (i.e. every possible combination of Boolean\n",
    "            values for the operator and what it evaluate )"
   ]
  },
  {
   "cell_type": "markdown",
   "id": "f1ec0497",
   "metadata": {},
   "source": [
    "Answer: [\"True and True --> True\"    ,   \"True and False --> False\"   ,   \"False and True --> False\"   ,   \n",
    "         \"False and False --> False\"   ,   \"True or True --> True\"   ,   \"True or False --> True\"   ,   \n",
    "         \"False or True --> True\"   ,   \"False or False --> False\"]"
   ]
  },
  {
   "cell_type": "markdown",
   "id": "5c7f487d",
   "metadata": {},
   "source": [
    "                                                                                                "
   ]
  },
  {
   "cell_type": "markdown",
   "id": "66faa443",
   "metadata": {},
   "source": [
    "Question 4: What are the values of the following expressions?                                                               \n",
    "            (5 > 4) and (3 == 5)     ,     \n",
    "            not (5 > 4)    ,    \n",
    "            (5 > 4) or (3 == 5)    ,    \n",
    "            not ((5 > 4) or (3 == 5))    ,    \n",
    "           (True and True) and (True == False)    ,    \n",
    "           (not False) or (not True)\n",
    "           \n",
    "Answer:  (5 > 4) and (3 == 5)  ------> False     ,     \n",
    "          not (5 > 4)     ------> False     ,     \n",
    "          (5 > 4) or (3 == 5) ------> True     ,     \n",
    "          not ((5 > 4) or (3 == 5)) ------> False     ,     \n",
    "          (True and True) and (True == False)  ------> False     ,     \n",
    "          (not False) or (not True) ------> True     ,     "
   ]
  },
  {
   "cell_type": "markdown",
   "id": "1b5626ad",
   "metadata": {},
   "source": [
    "                                                                                               "
   ]
  },
  {
   "cell_type": "markdown",
   "id": "d6d602d7",
   "metadata": {},
   "source": [
    "Question 5: What are the six comparison operators?\n",
    "    \n",
    "Answer: Six comparision operators are :                                                   \n",
    "        >         -----> greater than      ,       \n",
    "        <         -----> less than     ,      \n",
    "        ==        -----> equal to      ,      \n",
    "        !=        -----> not equal to      ,      \n",
    "        >=        -----> greater than equal to      ,      \n",
    "        <=        -----> less than equal to\n",
    "        "
   ]
  },
  {
   "cell_type": "markdown",
   "id": "953fcfcf",
   "metadata": {},
   "source": [
    "                                                            "
   ]
  },
  {
   "cell_type": "markdown",
   "id": "2277ae21",
   "metadata": {},
   "source": [
    "Question 6: How do you tell the difference between the equal to and assignment operators?Describe a\n",
    "            condition and when you would use one.\n",
    "        \n",
    "Answer : The sign of assignment operator is '=' and it is used to assign a value to a variable like a = 10 .\n",
    "         whereas the sign of equal to operator is '==' and it is used to check whether two variable are equal or not."
   ]
  },
  {
   "cell_type": "markdown",
   "id": "bcd2bf72",
   "metadata": {},
   "source": [
    "                                                                  "
   ]
  },
  {
   "cell_type": "code",
   "execution_count": null,
   "id": "71fc59e1",
   "metadata": {},
   "outputs": [],
   "source": [
    "Question 7: Identify the three blocks in this code:\n",
    "            spam = 0\n",
    "            if spam == 10:\n",
    "            print('eggs')\n",
    "            if spam > 5:\n",
    "            print('bacon')\n",
    "            else:\n",
    "            print('ham')\n",
    "            print('spam')\n",
    "            print('spam')\n",
    "            \n",
    "Answer:     spam = 0\n",
    "            if spam == 10: # BLOCK 1 \n",
    "            print('eggs')   \n",
    "            if spam > 5:   # BLOCK 2\n",
    "            print('bacon')\n",
    "            else:          # BLOCK 3\n",
    "            print('ham')\n",
    "            print('spam')\n",
    "            print('spam')"
   ]
  },
  {
   "cell_type": "markdown",
   "id": "b471ad39",
   "metadata": {},
   "source": [
    "                                       "
   ]
  },
  {
   "cell_type": "markdown",
   "id": "47d14bca",
   "metadata": {},
   "source": [
    " Question 8: Write code that prints Hello if 1 is stored in spam, prints Howdy if 2 is stored in spam, and prints\n",
    "             Greetings! if anything else is stored in spam.\n",
    "             \n",
    " Answer:"
   ]
  },
  {
   "cell_type": "code",
   "execution_count": null,
   "id": "1aeb8013",
   "metadata": {
    "scrolled": true
   },
   "outputs": [],
   "source": [
    "spam = int(input(\"enter the value of spam \"))\n",
    "if spam == 1: \n",
    "    print(\"Hello\")\n",
    "elif spam == 2: \n",
    "    print(\"Howdy\")\n",
    "else: \n",
    "    print(\"Greetings!\")"
   ]
  }
 ],
 "metadata": {
  "kernelspec": {
   "display_name": "Python 3 (ipykernel)",
   "language": "python",
   "name": "python3"
  },
  "language_info": {
   "codemirror_mode": {
    "name": "ipython",
    "version": 3
   },
   "file_extension": ".py",
   "mimetype": "text/x-python",
   "name": "python",
   "nbconvert_exporter": "python",
   "pygments_lexer": "ipython3",
   "version": "3.9.7"
  }
 },
 "nbformat": 4,
 "nbformat_minor": 5
}

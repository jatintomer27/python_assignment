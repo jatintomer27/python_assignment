{
 "cells": [
  {
   "cell_type": "markdown",
   "id": "12b67368",
   "metadata": {},
   "source": [
    "# Python assignment"
   ]
  },
  {
   "cell_type": "markdown",
   "id": "1f08dac7",
   "metadata": {},
   "source": [
    "# assignment 1"
   ]
  },
  {
   "cell_type": "code",
   "execution_count": null,
   "id": "8464c5c9",
   "metadata": {},
   "outputs": [],
   "source": [
    "Question 1: In the below elements which of them are values or an expression? eg:- values can be\n",
    "            integer or string and expressions will be mathematical operators.\n",
    "\n",
    "\n",
    "                *\n",
    "                'hello'\n",
    "                -87.8\n",
    "                -\n",
    "                /\n",
    "                +\n",
    "                6\n",
    "                \n",
    "Answer:\n",
    "                *         -------> expression\n",
    "                'hello'   -------> values\n",
    "                -87.8     ------->values\n",
    "                -         ------->expression\n",
    "                +         ------->expression\n",
    "                6         ------->values\n",
    "                "
   ]
  },
  {
   "cell_type": "markdown",
   "id": "526002ce",
   "metadata": {},
   "source": [
    "Question 2: What is the difference between string and variable?\n",
    "\n",
    "Answer: string is a datatype whereas variable is name of the memory location where we can store any data\n"
   ]
  },
  {
   "cell_type": "markdown",
   "id": "4e1eea99",
   "metadata": {},
   "source": [
    "Question 3: Describe three different data types.\n",
    "    \n",
    "Answer: integer --> integers are the whole numbers without having a fractional(that value is not in points) part.\n",
    "        floating point numbers --> these are the whole numbers with the fractional(that value is in points) part.\n",
    "        string --> it is a collection of one or more characters. string is enclosed within single or double quotation mark.\n",
    "        "
   ]
  },
  {
   "cell_type": "markdown",
   "id": "b321194a",
   "metadata": {},
   "source": [
    "Question 4: What is an expression made up of? What do all expressions do?\n",
    "\n",
    "Answer: An expression is a combination of operators and operands(variables or constants).\n",
    "    \n",
    "        all expression evaluates a value.\n",
    "        "
   ]
  },
  {
   "cell_type": "markdown",
   "id": "754cb31c",
   "metadata": {},
   "source": [
    "Question 5: This assignment statements, like spam = 10. What is the difference between an expression and a statement?\n",
    "\n",
    "Answer: An \"expression\" is a combination of values and functions that are combined and interpreted by the interpreter to create \n",
    "        a new value. whereas an \"statement\" is just a standalone unit of execution and does not return anything."
   ]
  },
  {
   "cell_type": "markdown",
   "id": "cd8ff50d",
   "metadata": {},
   "source": [
    "Question 6: After running the following code, what does the variable bacon contain?\n",
    "\n",
    "    \n",
    "          bacon = 22\n",
    "          bacon + 1\n",
    "            \n",
    "Answer: bacon contain 22 . because we add 1 in bacon but after adding 1 we are not assign that value to bacon therefore bacon \n",
    "        contains its previous value(i.e., 22)\n"
   ]
  },
  {
   "cell_type": "markdown",
   "id": "ce15d682",
   "metadata": {},
   "source": [
    "Question 7: What should the values of the following two terms be?\n",
    "\n",
    "    \n",
    "           'spam' + 'spamspam'\n",
    "           'spam' * 3\n",
    "            \n",
    "Answer: 'spam' + 'spamspam'   ------->  'spamspamspam'\n",
    "        'spam' * 3            ------->  'spamspamspam'\n"
   ]
  },
  {
   "cell_type": "markdown",
   "id": "75017357",
   "metadata": {},
   "source": [
    "Question 8: Why is eggs a valid variable name while 100 is invalid?\n",
    "\n",
    "Answer: eggs is valid variable name while 100 is invalid because in python a variable name can only start with a letter or a \n",
    "        underscore character not something else . whereas variable name contain alpha-numeric characters and underscores\n",
    "        (A-Z,a-z,0-9 and _).\n",
    "        "
   ]
  },
  {
   "cell_type": "markdown",
   "id": "16e3728c",
   "metadata": {},
   "source": [
    "Question 9: What three functions can be used to get the integer, floating-point number, or string version of a value?\n",
    "\n",
    "Answer: int()   ------> for integer\n",
    "        float() ------> for floating-point number\n",
    "        str()   ------> for sring\n"
   ]
  },
  {
   "cell_type": "markdown",
   "id": "b0ce2342",
   "metadata": {},
   "source": [
    "Question 10: Why does this expression cause an error? How can you fix it?\n",
    "              \n",
    "             'I have eaten ' + 99 + ' burritos.'\n",
    "\n",
    "Answer: This expression cause an error because we cannot concatenate(add) a integer value and a string value.\n",
    "         \n",
    "        we can fix it by converting 99 into string by str() function \n",
    "        \n",
    "            'I have eaten ' +  str(99) + ' burritos'\n",
    "            \n",
    "            output: 'I have eaten 99 burritos'"
   ]
  }
 ],
 "metadata": {
  "kernelspec": {
   "display_name": "Python 3 (ipykernel)",
   "language": "python",
   "name": "python3"
  },
  "language_info": {
   "codemirror_mode": {
    "name": "ipython",
    "version": 3
   },
   "file_extension": ".py",
   "mimetype": "text/x-python",
   "name": "python",
   "nbconvert_exporter": "python",
   "pygments_lexer": "ipython3",
   "version": "3.9.7"
  }
 },
 "nbformat": 4,
 "nbformat_minor": 5
}
